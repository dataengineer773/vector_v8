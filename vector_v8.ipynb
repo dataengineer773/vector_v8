{
 "cells": [
  {
   "cell_type": "code",
   "execution_count": 1,
   "id": "4f6cb204-cb30-42c9-890e-c29a0be6bfb3",
   "metadata": {},
   "outputs": [],
   "source": [
    "class Vector:\n",
    "    typecode = 'd'"
   ]
  },
  {
   "cell_type": "code",
   "execution_count": 2,
   "id": "488eb91c-b0f7-4a04-80af-f96a14553c04",
   "metadata": {},
   "outputs": [],
   "source": [
    "def __init__(self, componenets):\n",
    "    self._components = array(self.typecode, coponents)"
   ]
  },
  {
   "cell_type": "code",
   "execution_count": 3,
   "id": "d48ede8d-2501-4d50-b553-80a063208d7c",
   "metadata": {},
   "outputs": [],
   "source": [
    "def __mul__(self, scalar):\n",
    "    try:\n",
    "        favtor = float(scalar)\n",
    "    except TypeError:\n",
    "        return NotImplemented\n",
    "    return Vector(n * factor for n in self)\n",
    "\n",
    "def __rmul__(self, scalar):\n",
    "    return self * scalar"
   ]
  },
  {
   "cell_type": "code",
   "execution_count": null,
   "id": "1984976f-6d10-4ed4-b62f-8d9441b615bb",
   "metadata": {},
   "outputs": [],
   "source": []
  }
 ],
 "metadata": {
  "kernelspec": {
   "display_name": "Python 3 (ipykernel)",
   "language": "python",
   "name": "python3"
  },
  "language_info": {
   "codemirror_mode": {
    "name": "ipython",
    "version": 3
   },
   "file_extension": ".py",
   "mimetype": "text/x-python",
   "name": "python",
   "nbconvert_exporter": "python",
   "pygments_lexer": "ipython3",
   "version": "3.12.3"
  }
 },
 "nbformat": 4,
 "nbformat_minor": 5
}
